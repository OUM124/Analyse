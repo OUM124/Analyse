{
 "cells": [
  {
   "cell_type": "markdown",
   "metadata": {},
   "source": [
    "# Méthode de newton \n"
   ]
  },
  {
   "cell_type": "code",
   "execution_count": 4,
   "metadata": {},
   "outputs": [
    {
     "name": "stdout",
     "output_type": "stream",
     "text": [
      "Iteration N° :  1\n",
      "Iteration N° :  2\n",
      "Iteration N° :  3\n",
      "Iteration N° :  4\n",
      "Iteration N° :  5\n",
      "Iteration N° :  6\n",
      "Iteration N° :  7\n",
      "Iteration N° :  8\n",
      "Iteration N° :  9\n",
      "Iteration N° :  10\n",
      "Iteration N° :  11\n",
      "Iteration N° :  12\n",
      "Iteration N° :  13\n",
      "Iteration N° :  14\n",
      "Iteration N° :  15\n",
      "Iteration N° :  16\n",
      "Iteration N° :  17\n",
      "Iteration N° :  18\n",
      "Iteration N° :  19\n",
      "Iteration N° :  20\n",
      "Iteration N° :  21\n"
     ]
    },
    {
     "data": {
      "text/plain": [
       "-1.3247179572453902"
      ]
     },
     "execution_count": 4,
     "metadata": {},
     "output_type": "execute_result"
    }
   ],
   "source": [
    "def fun(x):\n",
    "    return x**3-x+1\n",
    "\n",
    "\n",
    "def derivée(f,x):\n",
    "    return 3*x**2-1\n",
    "\n",
    "def methode_newton(f,der,x0,tol,max_iter):\n",
    "    n = 1\n",
    "    x = x0\n",
    "    while(abs(f(x))>tol and n<max_iter):\n",
    "        x = x-f(x)/der(f,x)\n",
    "        print(\"Iteration N° : \",n)\n",
    "        n+=1\n",
    "        if(f(x)==0):\n",
    "            break\n",
    "            \n",
    "    return x\n",
    "\n",
    "methode_newton(fun,derivée,0,1e-6,100)\n",
    "\n",
    "\n",
    "# Le choix de x0 influence le nombre d'iteration.\n"
   ]
  },
  {
   "cell_type": "markdown",
   "metadata": {},
   "source": [
    "# Méthode de la sécante\n"
   ]
  },
  {
   "cell_type": "code",
   "execution_count": 5,
   "metadata": {},
   "outputs": [
    {
     "name": "stdout",
     "output_type": "stream",
     "text": [
      "Iteration N° :  1\n",
      "Iteration N° :  2\n",
      "Iteration N° :  3\n",
      "Iteration N° :  4\n",
      "Iteration N° :  5\n",
      "Iteration N° :  6\n",
      "Iteration N° :  7\n",
      "Iteration N° :  8\n",
      "Iteration N° :  9\n",
      "Iteration N° :  10\n",
      "Iteration N° :  11\n",
      "Iteration N° :  12\n",
      "Iteration N° :  13\n",
      "Iteration N° :  14\n"
     ]
    },
    {
     "data": {
      "text/plain": [
       "-1.3247179475513264"
      ]
     },
     "execution_count": 5,
     "metadata": {},
     "output_type": "execute_result"
    }
   ],
   "source": [
    "def fun(x):\n",
    "    return x**3-x+1\n",
    "\n",
    "\n",
    "def derivée(f,x):\n",
    "    return 3*x**2-1\n",
    "\n",
    "def methode_secante(f,x0,x1,tol,max_iter):\n",
    "    n = 1  \n",
    "    x2 = x1-f(x1)*(x1-x0)/(f(x1)-f(x0))\n",
    "    while(abs(f(x2))>tol and n<max_iter):\n",
    "        x2 = x1-f(x1)*(x1-x0)/(f(x1)-f(x0))\n",
    "        x0 = x1\n",
    "        x1 = x2\n",
    "        print(\"Iteration N° : \",n)\n",
    "        n+=1\n",
    "        if(f(x2)==0):\n",
    "            break\n",
    "    return x2\n",
    "\n",
    "methode_secante(fun,0,-2,1e-6,100)\n",
    "\n",
    "\n",
    "# Le choix de x0 et x1 influence le nombre d'iteration.\n"
   ]
  },
  {
   "cell_type": "markdown",
   "metadata": {},
   "source": [
    "# Méthode de dichotomie"
   ]
  },
  {
   "cell_type": "code",
   "execution_count": 3,
   "metadata": {},
   "outputs": [
    {
     "name": "stdout",
     "output_type": "stream",
     "text": [
      "Nombre d'itérations :  25\n"
     ]
    },
    {
     "data": {
      "text/plain": [
       "-1.3247178792953491"
      ]
     },
     "execution_count": 3,
     "metadata": {},
     "output_type": "execute_result"
    }
   ],
   "source": [
    "def fun(x):\n",
    "    return x**3-x+1\n",
    "\n",
    "def dichotomie(f,a,b,max_iter,eps):\n",
    "    n=1\n",
    "    c = (a+b)/2\n",
    "    while(f(a)*f(b)<=0 and f(c)!=0 and n<max_iter and (abs(f(b)-f(a)))>eps):\n",
    "        c = (a+b)/2\n",
    "        if(f(c)*f(a)<0):\n",
    "            b=c\n",
    "        else:\n",
    "            a = c\n",
    "        n+=1  \n",
    "    print(\"Nombre d'itérations : \",n)      \n",
    "    return c    \n",
    "\n",
    "dichotomie(fun,0,-2,100,1e-6)\n"
   ]
  },
  {
   "cell_type": "markdown",
   "metadata": {},
   "source": [
    "#   Newton modifiée"
   ]
  },
  {
   "cell_type": "code",
   "execution_count": 13,
   "metadata": {},
   "outputs": [
    {
     "name": "stdout",
     "output_type": "stream",
     "text": [
      "nombre d'itération de la methode de newton modifiée: 4 \n",
      "\n",
      "-1.3247179020036017\n"
     ]
    }
   ],
   "source": [
    "import math\n",
    "def fun(x):\n",
    "    return x**3-x+1\n",
    "\n",
    "\n",
    "def derive(f,x):\n",
    "    return 3*x**2-1\n",
    "\n",
    "def derivee2(x):\n",
    "    return 6*x\n",
    "\n",
    "\n",
    "\n",
    "def methode_newton_mod(f,der,der2,x,tol,max_iter):\n",
    "    \n",
    "    nombreIteration = 0\n",
    "    while(abs(f(x))>tol and nombreIteration<max_iter):\n",
    "        nombreIteration +=1\n",
    "        x = x-(f(x)*der(f,x)/(der(f,x)**2 - f(x)*der2(x)))\n",
    "    print(\"nombre d'itération de la methode de newton modifiée:\", nombreIteration,\"\\n\")\n",
    "    return x\n",
    "\n",
    "\n",
    "\n",
    "\n",
    "\n",
    "\n",
    "print(methode_newton_mod(fun,derive,derivee2,-1,1e-6,100))\n"
   ]
  }
 ],
 "metadata": {
  "kernelspec": {
   "display_name": "Python 3",
   "language": "python",
   "name": "python3"
  },
  "language_info": {
   "codemirror_mode": {
    "name": "ipython",
    "version": 3
   },
   "file_extension": ".py",
   "mimetype": "text/x-python",
   "name": "python",
   "nbconvert_exporter": "python",
   "pygments_lexer": "ipython3",
   "version": "3.11.6"
  }
 },
 "nbformat": 4,
 "nbformat_minor": 2
}
